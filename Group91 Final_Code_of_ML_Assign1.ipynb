{
  "nbformat": 4,
  "nbformat_minor": 0,
  "metadata": {
    "colab": {
      "name": "Final_Code_of_ML_Assign1.ipynb",
      "version": "0.3.2",
      "provenance": [],
      "collapsed_sections": []
    },
    "kernelspec": {
      "name": "python3",
      "display_name": "Python 3"
    }
  },
  "cells": [
    {
      "metadata": {
        "id": "fQZFDEbo_iPD",
        "colab_type": "text"
      },
      "cell_type": "markdown",
      "source": [
        "Submitted by Group 91 \n",
        "\n",
        "Sushil Kulkarni (470452709), \n",
        "Disha Mendapara(490494736)\n",
        "Anjali Upadhyay (490451474)"
      ]
    },
    {
      "metadata": {
        "id": "8zbXY5Xr_hPA",
        "colab_type": "code",
        "colab": {
          "base_uri": "https://localhost:8080/",
          "height": 34
        },
        "outputId": "cf2b804b-43c9-49be-cd17-dbe8f43eb2df"
      },
      "cell_type": "code",
      "source": [
        "# Mount google drive on Colab. Only use if running on Google Colab\n",
        "# You will need gmail id for this. Please grant access when prompted\n",
        "\n",
        "from google.colab import drive\n",
        "drive.mount('/content/gdrive')\n"
      ],
      "execution_count": 25,
      "outputs": [
        {
          "output_type": "stream",
          "text": [
            "Drive already mounted at /content/gdrive; to attempt to forcibly remount, call drive.mount(\"/content/gdrive\", force_remount=True).\n"
          ],
          "name": "stdout"
        }
      ]
    },
    {
      "metadata": {
        "id": "AwfSP5cVqbGg",
        "colab_type": "code",
        "colab": {}
      },
      "cell_type": "code",
      "source": [
        "# Import libraries \n",
        "\n",
        "#import pandas as pd\n",
        "import h5py\n",
        "import numpy as np\n",
        "from time import time\n",
        "import matplotlib.pyplot as plt\n",
        "%matplotlib inline\n",
        "import seaborn as sns\n",
        "from itertools import chain\n",
        "from datetime import datetime, timedelta\n",
        "import warnings\n",
        "from scipy.stats import multivariate_normal \n",
        "from collections import defaultdict\n",
        "\n",
        "### The path of the input files. Please change this to your local path\n",
        "\n",
        "path='/content/gdrive/My Drive/ML-5318/'\n",
        "###\n",
        "\n",
        "label_dict = {0: 'T-shirt/top', 1: 'Trouser', 2: 'Pullover', 3: 'Dress', 4: 'Coat', 5: 'Sandal', 6: 'Shirt', 7: 'Sneaker', 8: 'Bag', 9: 'Ankle boot'}\n",
        "\n",
        "train=0.9  ## Traning Data\n",
        "test=0.1  ## Validation Data\n",
        "\n",
        "\n",
        "\n"
      ],
      "execution_count": 0,
      "outputs": []
    },
    {
      "metadata": {
        "id": "tDdEGtlBxjSW",
        "colab_type": "code",
        "colab": {}
      },
      "cell_type": "code",
      "source": [
        "# Open h5 file and convert to numpy\n",
        "\n",
        "with h5py.File(path+'Dataset_Assignment1/images_training.h5','r') as H:\n",
        "  data = np.copy(H['data'])\n",
        "with h5py.File(path+'Dataset_Assignment1/labels_training.h5','r') as H:\n",
        "  lbl = np.copy(H['label'])\n",
        "with h5py.File(path+'Dataset_Assignment1/labels_testing_2000.h5','r') as H:\n",
        "  test_label = np.copy(H['label'])\n",
        "with h5py.File(path+'Dataset_Assignment1/images_testing.h5','r') as H:\n",
        "  test_data = np.copy(H['data'])"
      ],
      "execution_count": 0,
      "outputs": []
    },
    {
      "metadata": {
        "id": "AmUDLxfRIBtO",
        "colab_type": "code",
        "colab": {}
      },
      "cell_type": "code",
      "source": [
        "# Reshape array from 3D to 2D & split train test\n",
        "\n",
        "nsamples, nx, ny = data.shape\n",
        "testsamples, nx, ny = test_data.shape\n",
        "\n",
        "## Training Set\n",
        "\n",
        "data_tr=data[0:int(nsamples*train)]\n",
        "data_tr = data_tr.reshape((int(nsamples*train),nx*ny))\n",
        "lbl_tr=lbl[0:int(nsamples*train)]\n",
        "\n",
        "\n",
        "## Validation Set\n",
        "data_val=data[int(nsamples-nsamples*test):]\n",
        "data_val = data_val.reshape(int(nsamples*test),nx*ny)\n",
        "lbl_val=lbl[int(nsamples-nsamples*test):]\n",
        "\n",
        "\n",
        "\n",
        "## Test set.\n",
        "data_tst=test_data[0:2000]   # take only first 2k rows\n",
        "data_tst = data_tst.reshape(2000,nx*ny)\n",
        "lbl_tst=test_label\n",
        "\n",
        "\n"
      ],
      "execution_count": 0,
      "outputs": []
    },
    {
      "metadata": {
        "id": "dbH9HcgmqcNM",
        "colab_type": "code",
        "outputId": "2d7dee21-9c50-42dc-bf65-8285d63c8a9a",
        "colab": {
          "base_uri": "https://localhost:8080/",
          "height": 297
        }
      },
      "cell_type": "code",
      "source": [
        "# Show Samples\n",
        "# Get 28x28 image\n",
        "\n",
        "plt.subplot(2, 2, 1)\n",
        "sample_1 = data[1100].reshape(28,28)\n",
        "sample_label_1 = lbl[1100] \n",
        "plt.title(label_dict[sample_label_1])\n",
        "plt.imshow(sample_1, cmap='Greys')\n",
        "\n",
        "\n",
        "plt.subplot(2, 2, 2)\n",
        "sample_2 = data[0].reshape(28,28)\n",
        "sample_label_2 = lbl[0] \n",
        "plt.title(label_dict[sample_label_2])\n",
        "plt.imshow(sample_2, cmap='Greys')\n",
        "\n",
        "plt.subplot(2, 2, 3)\n",
        "sample_3 = data[3100].reshape(28,28)\n",
        "sample_label_3 = lbl[3100] \n",
        "plt.title(label_dict[sample_label_3])\n",
        "plt.imshow(sample_3, cmap='Greys')\n",
        "\n",
        "\n",
        "plt.subplot(2, 2, 4)\n",
        "sample_4 = data[145].reshape(28,28)\n",
        "sample_label_4 = lbl[145] \n",
        "plt.title(label_dict[sample_label_4])\n",
        "plt.imshow(sample_4, cmap='Greys')\n",
        "\n",
        "plt.tight_layout()\n",
        "plt.show()\n"
      ],
      "execution_count": 10,
      "outputs": [
        {
          "output_type": "display_data",
          "data": {
            "image/png": "[encoded data removed]",
            "text/plain": [
              "<Figure size 432x288 with 4 Axes>"
            ]
          },
          "metadata": {
            "tags": []
          }
        }
      ]
    },
    {
      "metadata": {
        "id": "Dn5PV_9sKqfD",
        "colab_type": "code",
        "outputId": "ef212253-fbaa-48e1-f85c-d1052f5964bc",
        "colab": {
          "base_uri": "https://localhost:8080/",
          "height": 297
        }
      },
      "cell_type": "code",
      "source": [
        "# Plot class wise distribution of labels\n",
        "\n",
        "\n",
        "warnings.filterwarnings('ignore')\n",
        "\n",
        "plt.subplot(1, 2, 1)\n",
        "\n",
        "#sns.distplot(lbl,kde = False )\n",
        "\n",
        "objects = label_dict.values()\n",
        "y_pos = np.arange(len(objects))\n",
        "\n",
        "plt.bar(y_pos, np.bincount(lbl), align='center', alpha=0.9)\n",
        "plt.xticks(y_pos, objects, rotation=90)\n",
        "plt.title('Class wise distribution')\n",
        "\n",
        "\n",
        "plt.subplot(1, 2, 2)\n",
        "\n",
        "plt.pie(np.bincount(lbl), labels=label_dict.values(), autopct='%1.1f%%', shadow=True)\n",
        "\n",
        " \n",
        "plt.tight_layout()\n",
        "plt.show()"
      ],
      "execution_count": 11,
      "outputs": [
        {
          "output_type": "display_data",
          "data": {
            "image/png": "[encoded data removed]",
            "text/plain": [
              "<Figure size 432x288 with 2 Axes>"
            ]
          },
          "metadata": {
            "tags": []
          }
        }
      ]
    },
    {
      "metadata": {
        "id": "kptKxlRX3SRx",
        "colab_type": "code",
        "colab": {}
      },
      "cell_type": "code",
      "source": [
        "#### Preprocessing the data \n",
        "\n",
        "def pca_Custom(data, no_of_dim):\n",
        "\n",
        "    ## Normalizing the data by subtracting the mean and dividing by std\n",
        "    data=(data-np.mean(data))/np.std(data)\n",
        "    cov_mat=np.cov(data.T)\n",
        "    eig_vals, eig_vecs = np.linalg.eig(cov_mat)\n",
        "    eig_pairs = [(np.abs(eig_vals[i]), eig_vecs[:,i]) for i in range(len(eig_vals))]\n",
        "    eig_pairs.sort()\n",
        "    eig_pairs.reverse()\n",
        "\n",
        "    ## Rearrange the matrix into the new subspace \n",
        "    w=[]\n",
        "    for i in range(no_of_dim):\n",
        "      w.append((eig_pairs[i][1].reshape(784,1)))\n",
        "    matrix_w=np.array(w).reshape(784,no_of_dim)\n",
        "    \n",
        "\n",
        "  \n",
        "    return matrix_w\n",
        "  \n",
        "\n",
        " ## Finding the refined PCA data for training and validation \n",
        "\n",
        "matrix_w=pca_Custom(data_tr,400)\n",
        "data_tr_PCA=data_tr.dot(matrix_w)\n",
        "data_val_PCA=data_val.dot(matrix_w)\n",
        "data_tst_PCA=data_tst.dot(matrix_w)"
      ],
      "execution_count": 0,
      "outputs": []
    },
    {
      "metadata": {
        "id": "apoaYuzys2Z1",
        "colab_type": "code",
        "colab": {}
      },
      "cell_type": "code",
      "source": [
        "\n",
        "# Perform SVD on the numpy matrix\n",
        "k=400\n",
        "\n",
        "U, s, V = np.linalg.svd(data_tr, full_matrices=False)\n",
        "data_tr_SVD = np.dot(U[:,:k],np.diag(s[:k])) \n",
        "\n",
        "U, s, V = np.linalg.svd(data_val, full_matrices=False)\n",
        "data_val_SVD = np.dot(U[:,:k],np.diag(s[:k])) "
      ],
      "execution_count": 0,
      "outputs": []
    },
    {
      "metadata": {
        "id": "16Jd971YxxtF",
        "colab_type": "code",
        "colab": {}
      },
      "cell_type": "code",
      "source": [
        "# Logistic Regression classifier code\n",
        "\n",
        "class LogisticRegressionOVR(object):\n",
        "    def __init__(self, eta=0.9, n_iter=50):\n",
        "        self.eta = eta\n",
        "        self.n_iter = n_iter\n",
        "        \n",
        "    ## This function will calcualte the appropriate weights after iterating over multiple times \n",
        "    ## This works on one class vs all.and return the results along with the class.\n",
        "    def fit(self, X, y):\n",
        "        X = np.insert(X, 0, 1, axis=1)\n",
        "        self.w = []\n",
        "        m = X.shape[0]\n",
        "\n",
        "        for i in np.unique(y):\n",
        "            y_copy = np.where(y == i, 1, 0)\n",
        "            w = np.ones(X.shape[1])\n",
        "\n",
        "            for _ in range(self.n_iter):\n",
        "                output = X.dot(w)\n",
        "                errors = y_copy - self._sigmoid(output)\n",
        "                w += self.eta / m * errors.dot(X)\n",
        "            self.w.append((w, i))\n",
        "        return self\n",
        "    \n",
        "    def _sigmoid(self, x):\n",
        "        return 1 / (1 + np.exp(-x))\n",
        "    \n",
        "    def predict(self, X):\n",
        "        return [self._predict_one(i) for i in np.insert(X, 0, 1, axis=1)]\n",
        "\n",
        "    ## We will predict the output after multiplying our input set with the best weights selected by the algorithm.\n",
        "    def _predict_one(self, x):\n",
        "        return max((x.dot(w), c) for w, c in self.w)[1]   \n",
        "    \n",
        "    def score(self, X, y):\n",
        "        return sum(self.predict(X) == y) / len(y)\n",
        "\n",
        "    "
      ],
      "execution_count": 0,
      "outputs": []
    },
    {
      "metadata": {
        "id": "dElKJN_kELx7",
        "colab_type": "code",
        "colab": {}
      },
      "cell_type": "code",
      "source": [
        "# Naive Bayes\n",
        "\n",
        "class NaiveBayesClassfier(object):\n",
        "   \n",
        "      ## Calculate the mean and variance of the seperated data  \n",
        "      def fit(self,data,label):\n",
        "          data=self.seperationbyclasses(data,label,noofClasses=len(np.unique(label)))\n",
        "          self.mean=[]\n",
        "          self.variance=[]\n",
        "          for data_values in data:\n",
        "            self.mean.append(np.mean(data_values,axis=0))\n",
        "          for data_values in data:\n",
        "            self.variance.append(np.var(data_values,axis=0))\n",
        "           \n",
        "          self.prob_density=np.bincount(label)/len(label)\n",
        "          return self\n",
        "        \n",
        "      ## We seperate the data via different classes   \n",
        "      def seperationbyclasses(self,data,label,noofClasses):\n",
        "          seperated = []\n",
        "          seperated = [[] for i in range(noofClasses)]\n",
        "          for data, label in zip(data, label):\n",
        "            seperated[label].append(data)\n",
        "          return [np.array(data) for data in seperated]\n",
        "      \n",
        "      \n",
        "      ## We will use this mean and the variace of the dataset collected to get the probability density function for the new data.\n",
        "      def predict(self,data):\n",
        "           predictions=[]\n",
        "           for mean,variance,prob_density in zip(self.mean,self.variance,self.prob_density):\n",
        "              predictions.append(np.log(prob_density)+ multivariate_normal.logpdf(data, mean, variance, True))\n",
        "           return np.argmax(np.array(predictions), axis=0)\n",
        "        \n",
        "\n",
        "      def score(self, data,label):\n",
        "        return sum(self.predict(data) == label) / len(label)"
      ],
      "execution_count": 0,
      "outputs": []
    },
    {
      "metadata": {
        "id": "boSa_wsMKPRj",
        "colab_type": "code",
        "colab": {}
      },
      "cell_type": "code",
      "source": [
        "## KNN classifier\n",
        "\n",
        "class KNearestNeighborsClassifier(object):\n",
        "\n",
        "  #saving n_neighbors as an instance\n",
        "  # taking distance into account, give closer points more weight\n",
        "  #setting default values of neighbors weight and distpara\n",
        "    def __init__(self, n_neighbors=5, weights='uniform', distpara=2):\n",
        "        self.n_neighbors = n_neighbors\n",
        "        self.weights = weights\n",
        "        self.distpara = distpara\n",
        "\n",
        "        \n",
        "  #saves Instances to Two Variables X and Y\n",
        "\n",
        "    def fit(self, X, y):\n",
        "        self.X = X\n",
        "        self.y = y\n",
        "        return self\n",
        "\n",
        "    def calculating_distance(self, data1, data2):\n",
        "    #  considering p as 1 or 2 \n",
        "    # 1-> Manhattan Distance and 2-> Euclidean distance\n",
        "        if self.distpara == 1:  \n",
        "    # returns Maanhattan Distance (to calculate distance between two points)\n",
        "            return sum(abs(data1 - data2))          \n",
        "        elif self.distpara == 2:    \n",
        "    # returns Euclidean Distance\n",
        "            return np.sqrt(sum((data1 - data2)**2))\n",
        "            raise ValueError(\"p not recognized: should be 1 or 2\")\n",
        "\n",
        "    def computing_weights(self, distances):\n",
        "    # compute uniform weights\n",
        "        if self.weights == 'uniform':\n",
        "            return [(1, y) for d, y in distances]\n",
        "        elif self.weights == 'distance':\n",
        "     # collects all the samples whose distance is zero and assigns a value 1 \n",
        "            matches = [(1, y) for d, y in distances if d == 0]\n",
        "            return matches if matches else [(1/d, y) for d, y in distances]\n",
        "    # when distance is zero you will gett error on every single instance and hence get a division by 0 error\n",
        "        raise ValueError(\"weights not recognized: should be 'uniform' or 'distance'\")\n",
        "\n",
        "        \n",
        "    #  predicts only one instance \n",
        "    def predicting_one_instance(self, test):\n",
        "    # sort the samples function sorts by the first element by pair of distance and a target class\n",
        "        distances = sorted((self.calculating_distance(x, test), y) for x, y in zip(self.X, self.y)) \n",
        "    #  calls _compute_weights function\n",
        "        weights = self._computing_weights(distances[:self.n_neighbors])\n",
        "    # grouping weights by classes using defaultdict\n",
        "        weights_by_class = defaultdict(list)\n",
        "        for d, c in weights:\n",
        "            weights_by_class[c].append(d)\n",
        "    #  sum is used to count how many members belong to eachc class then takes the majority with max(looks at first element by default and second element as a predicted class)   \n",
        "        return max((sum(val), key) for key, val in weights_by_class.items())[1]\n",
        "\n",
        "      \n",
        "    #  predicts multiple instances by calling _predict_one several times and saves them to the list\n",
        "    def predicting_multiple_instances(self, X):\n",
        "        return [self.predicting_one_instance(x) for x in X]\n",
        "\n",
        "      \n",
        "      \n",
        "      # calculating  mean accuracy of the given test data\n",
        "    def score(self, X, y):\n",
        "        return sum(1 for p, t in zip(self.predict(X), y) if p == t) / len(y)"
      ],
      "execution_count": 0,
      "outputs": []
    },
    {
      "metadata": {
        "id": "HCKIENQk-Wwn",
        "colab_type": "code",
        "colab": {}
      },
      "cell_type": "code",
      "source": [
        "# Label encoder\n",
        "    \n",
        "class LabelEncoder_Custom():\n",
        "      \"\"\"Encode labels with value between 0 and n_classes-1.\n",
        "      \"\"\"\n",
        "\n",
        "      def fit(self, y):\n",
        "          \"\"\"Fit label encoder\n",
        "          \"\"\"\n",
        "          y = np.ravel(y)\n",
        "          self.classes_ = np.unique(y)\n",
        "          return self\n",
        "\n",
        "      def transform(self, y):\n",
        "          \"\"\"Transform labels to normalized encoding.\n",
        "          \"\"\"\n",
        "          y = np.ravel(y)\n",
        "\n",
        "          if y.shape[0] == 0:\n",
        "               return np.array([])\n",
        "\n",
        "          classes = np.unique(y)\n",
        "\n",
        "          return np.searchsorted(self.classes_, y)\n",
        "\n",
        "\n",
        "      def _unique_multiclass_Custom(self,y):\n",
        "          return np.unique(np.asarray(y))\n",
        "\n",
        "\n",
        "      def unique_labels_Custom(self,*ys):\n",
        "          _unique_labels = self._unique_multiclass_Custom\n",
        "          ys_labels = set(chain.from_iterable(_unique_labels(y) for y in ys))\n",
        "          return np.array(sorted(ys_labels))\n",
        "      \n"
      ],
      "execution_count": 0,
      "outputs": []
    },
    {
      "metadata": {
        "id": "wY2rx-2-eMfn",
        "colab_type": "code",
        "colab": {}
      },
      "cell_type": "code",
      "source": [
        "# Print custom classification report\n",
        "\n",
        "def classification_report_Custom(y_true, y_pred, target_names):\n",
        "\n",
        "      le = LabelEncoder_Custom()     \n",
        "      labels_given = True\n",
        "      labels = le.unique_labels_Custom(y_true, y_pred)\n",
        "      digits = 2\n",
        "\n",
        "      last_line_heading = 'avg / total'\n",
        "\n",
        "      name_width = max(len(cn) for cn in target_names)\n",
        "\n",
        "      width = max(name_width, len(last_line_heading), 2)\n",
        "\n",
        "      headers = [\"precision\", \"recall\", \"f1-score\"]    \n",
        "\n",
        "      head_fmt = u'{:>{width}s} ' + u' {:>9}' * len(headers)\n",
        "      report = head_fmt.format(u'', *headers, width=width)\n",
        "      report += u'\\n'\n",
        "\n",
        "\n",
        "      p, r, f1 = precision_recall_fscore_support_Custom(y_true, y_pred, \n",
        "                                                         labels=labels)\n",
        "\n",
        "      row_fmt = u'{:>{width}s} ' + u' {:>9.{digits}f}' * 3 + '\\n'\n",
        "\n",
        "\n",
        "      rows = zip(target_names, p, r, f1)\n",
        "\n",
        "\n",
        "      for row in rows:\n",
        "          report += row_fmt.format(*row, width=width, digits=digits)\n",
        "\n",
        "\n",
        "      report += u'\\n'\n",
        "\n",
        "      report += row_fmt.format(last_line_heading,\n",
        "                       np.average(p),\n",
        "                       np.average(r),\n",
        "                       np.average(f1),\n",
        "                       width=width, digits=digits)\n",
        "\n",
        "      results = []\n",
        "      results.insert(0, report)\n",
        "      results.insert(1, np.average(p))\n",
        "      results.insert(2, np.average(r))\n",
        "      results.insert(3, np.average(f1))\n",
        "\n",
        "      return report"
      ],
      "execution_count": 0,
      "outputs": []
    },
    {
      "metadata": {
        "id": "aTfdyXMAevcO",
        "colab_type": "code",
        "colab": {}
      },
      "cell_type": "code",
      "source": [
        "# precision recall fscore function\n",
        "\n",
        "def precision_recall_fscore_support_Custom(y_true, y_pred, labels=None):\n",
        "    \n",
        "   \n",
        "     beta = 1.0\n",
        "     sample_weight = None\n",
        "     le = LabelEncoder_Custom()\n",
        "\n",
        "     y_true = np.ravel(y_true)\n",
        "     y_pred = np.ravel(y_pred)\n",
        "\n",
        "     present_labels = le.unique_labels_Custom(y_true, y_pred)\n",
        "\n",
        "     n_labels = len(labels)\n",
        "     labels = np.hstack([labels, np.setdiff1d(present_labels, labels, \n",
        "                                               assume_unique=True)])\n",
        "\n",
        "     # Calculate tp_sum, pred_sum, true_sum ###\n",
        "\n",
        "     le.fit(labels)\n",
        "     y_true = le.transform(y_true)\n",
        "     y_pred = le.transform(y_pred)\n",
        "     sorted_labels = le.classes_\n",
        "\n",
        "     # labels are now from 0 to len(labels) - 1 -> use bincount\n",
        "     tp = y_true == y_pred\n",
        "     tp_bins = y_true[tp]\n",
        "\n",
        "     tp_bins_weights = None\n",
        "\n",
        "     tp_sum = np.bincount(tp_bins, weights=tp_bins_weights, minlength=len(labels))\n",
        "\n",
        "     pred_sum = np.bincount(y_pred, weights=sample_weight, minlength=len(labels))\n",
        "\n",
        "     true_sum = np.bincount(y_true, weights=sample_weight, minlength=len(labels))\n",
        "\n",
        "     # Retain only selected labels\n",
        "     indices = np.searchsorted(sorted_labels, labels[:n_labels])\n",
        "     tp_sum = tp_sum[indices]\n",
        "     true_sum = true_sum[indices]\n",
        "     pred_sum = pred_sum[indices]\n",
        "\n",
        "     # Finally, we have all our sufficient statistics. Divide! #\n",
        "\n",
        "     precision = tp_sum / pred_sum\n",
        "     precision=np.where(np.isnan(precision), 0, precision)\n",
        "      \n",
        "     recall =  tp_sum / true_sum\n",
        "     recall=np.where(np.isnan(recall), 0, recall)\n",
        "\n",
        "\n",
        "     beta2 = beta ** 2\n",
        "\n",
        "     f_score = ((1 + beta2) * precision * recall /\n",
        "            (beta2 * precision + recall))\n",
        "\n",
        "     f_score[tp_sum == 0] = 0.0\n",
        "     f_score=np.where(np.isnan(f_score), 0, f_score)\n",
        "    \n",
        "     return precision, recall, f_score"
      ],
      "execution_count": 0,
      "outputs": []
    },
    {
      "metadata": {
        "id": "OPia7HgThJZa",
        "colab_type": "code",
        "colab": {}
      },
      "cell_type": "code",
      "source": [
        "# Compare inter class precision\n",
        "\n",
        "def inter_class_precision_Custom(data_tst, lbl_tst, classifier):\n",
        "  \n",
        "\n",
        "\n",
        "    keys=np.fromiter(label_dict.keys(), dtype=int)\n",
        "\n",
        "    \n",
        "    if classifier == 'logi':\n",
        "       precision, recall, f_score=precision_recall_fscore_support_Custom(lbl_tst, logi.predict(data_tst), keys)\n",
        "    elif classifier == 'nb':\n",
        "       precision, recall, f_score=precision_recall_fscore_support_Custom(lbl_tst, nb.predict(data_tst), keys)\n",
        "    elif classifier == 'knn':\n",
        "       precision, recall, f_score=precision_recall_fscore_support_Custom(lbl_tst, knn.predict(data_tst), keys)\n",
        "    \n",
        "    \n",
        "\n",
        "    y_pos = np.arange(len(label_dict.values()))\n",
        "\n",
        "    plt.bar(y_pos, np.around(precision*100, decimals=0), align='center', alpha=0.9)\n",
        "\n",
        "    plt.xticks(y_pos, label_dict.values(),rotation=90)\n",
        "    plt.ylabel('Precision')\n",
        "    plt.title('Class wise Precision')\n",
        "    plt.show()\n",
        "\n"
      ],
      "execution_count": 0,
      "outputs": []
    },
    {
      "metadata": {
        "id": "_fk0gQrM3iey",
        "colab_type": "code",
        "outputId": "1bc4d0b6-bfea-45b3-abcf-cc3884393c5c",
        "colab": {
          "base_uri": "https://localhost:8080/",
          "height": 631
        }
      },
      "cell_type": "code",
      "source": [
        "# Fit data and predict\n",
        "\n",
        "t0 = time()\n",
        "\n",
        "logi = LogisticRegressionOVR(n_iter=100).fit(data_tr_PCA, lbl_tr)\n",
        "\n",
        "print(logi.score(data_tr_PCA, lbl_tr))\n",
        "print(\"Training Time %fsecs \" % (time() - t0))\n",
        "print('Val Accuracy:',logi.score(data_val_PCA, lbl_val))\n",
        "print('Test Accuracy:',logi.score(data_tst_PCA,lbl_tst))\n",
        "print(classification_report_Custom(lbl_tst, logi.predict(data_tst_PCA),label_dict.values())) \n",
        "inter_class_precision_Custom(data_tst_PCA, lbl_tst, 'logi')\n",
        "\n",
        "\n"
      ],
      "execution_count": 23,
      "outputs": [
        {
          "output_type": "stream",
          "text": [
            "0.7536296296296296\n",
            "Training Time 15.933679secs \n",
            "Val Accuracy: 0.7466666666666667\n",
            "Test Accuracy: 0.7505\n",
            "             precision    recall  f1-score\n",
            "T-shirt/top       0.78      0.69      0.73\n",
            "    Trouser       0.99      0.95      0.97\n",
            "   Pullover       0.54      0.76      0.63\n",
            "      Dress       0.74      0.84      0.79\n",
            "       Coat       0.50      0.84      0.62\n",
            "     Sandal       0.87      0.80      0.83\n",
            "      Shirt       0.00      0.00      0.00\n",
            "    Sneaker       0.87      0.88      0.88\n",
            "        Bag       0.93      0.83      0.88\n",
            " Ankle boot       0.87      0.91      0.89\n",
            "\n",
            "avg / total       0.71      0.75      0.72\n",
            "\n"
          ],
          "name": "stdout"
        },
        {
          "output_type": "display_data",
          "data": {
            "image/png": "[encoded data removed]",
            "text/plain": [
              "<Figure size 432x288 with 1 Axes>"
            ]
          },
          "metadata": {
            "tags": []
          }
        }
      ]
    },
    {
      "metadata": {
        "id": "cIC_rA1fHrKs",
        "colab_type": "code",
        "outputId": "36d117ab-2371-4d42-be3a-ac43b0726892",
        "colab": {
          "base_uri": "https://localhost:8080/",
          "height": 614
        }
      },
      "cell_type": "code",
      "source": [
        "t0 = time()\n",
        "\n",
        "nb=NaiveBayesClassfier().fit(data_tr_PCA, lbl_tr)\n",
        "print(\"Training Time %fsecs \" % (time() - t0))\n",
        "print('Val Accuracy:',nb.score(data_val_PCA, lbl_val))\n",
        "print('Test Accuracy:',nb.score(data_tst_PCA,lbl_tst))\n",
        "print(classification_report_Custom(lbl_tst, nb.predict(data_tst_PCA),label_dict.values())) \n",
        "inter_class_precision_Custom(data_tst_PCA, lbl_tst, 'nb')\n",
        "\n",
        "\n"
      ],
      "execution_count": 24,
      "outputs": [
        {
          "output_type": "stream",
          "text": [
            "Training Time 0.135796secs \n",
            "Val Accuracy: 0.704\n",
            "Test Accuracy: 0.705\n",
            "             precision    recall  f1-score\n",
            "T-shirt/top       0.71      0.70      0.70\n",
            "    Trouser       0.99      0.90      0.94\n",
            "   Pullover       0.64      0.50      0.56\n",
            "      Dress       0.69      0.83      0.75\n",
            "       Coat       0.58      0.63      0.60\n",
            "     Sandal       0.56      0.73      0.63\n",
            "      Shirt       0.36      0.24      0.29\n",
            "    Sneaker       0.78      0.84      0.81\n",
            "        Bag       0.91      0.80      0.85\n",
            " Ankle boot       0.83      0.90      0.86\n",
            "\n",
            "avg / total       0.70      0.71      0.70\n",
            "\n"
          ],
          "name": "stdout"
        },
        {
          "output_type": "display_data",
          "data": {
            "image/png": "[encoded data removed]",
            "text/plain": [
              "<Figure size 432x288 with 1 Axes>"
            ]
          },
          "metadata": {
            "tags": []
          }
        }
      ]
    },
    {
      "metadata": {
        "id": "BmMPuh5pOdZA",
        "colab_type": "code",
        "outputId": "6037c184-f824-451c-965b-80ea83bb7e2a",
        "colab": {
          "base_uri": "https://localhost:8080/",
          "height": 631
        }
      },
      "cell_type": "code",
      "source": [
        "## Calculating the 40 PCA components to perform KNN.\n",
        "matrix_w=pca_Custom(data_tr,40)\n",
        "data_tr_PCA=data_tr.dot(matrix_w)\n",
        "data_val_PCA=data_val.dot(matrix_w)\n",
        "data_tst_PCA=data_tst.dot(matrix_w)\n",
        "\n",
        "\n",
        "\n",
        "t0 = time()\n",
        "knn = KNeighborsClassifier().fit(data_tr_PCA, lbl_tr)\n",
        "print('Val Accuracy:',knn.score(data_val_PCA, lbl_val))\n",
        "print(\"Training Time %fsecs \" % (time() - t0))\n",
        "\n",
        "print('Test Accuracy:',knn.score(data_tst_PCA,lbl_tst))\n",
        "print(\"Training Time %fsecs \" % (time() - t0))\n",
        "print(classification_report_Custom(lbl_tst, knn.predict(data_tst_PCA),label_dict.values())) \n",
        "inter_class_precision_Custom(data_tst_PCA, lbl_tst, 'knn')\n"
      ],
      "execution_count": 0,
      "outputs": [
        {
          "output_type": "stream",
          "text": [
            "Val Accuracy: 0.764\n",
            "Training Time 790.850553secs \n",
            "Test Accuracy: 0.735\n",
            "Training Time 1322.022800secs \n",
            "             precision    recall  f1-score\n",
            "T-shirt/top       0.63      0.80      0.71\n",
            "    Trouser       0.99      0.93      0.96\n",
            "   Pullover       0.61      0.67      0.63\n",
            "      Dress       0.83      0.79      0.81\n",
            "       Coat       0.59      0.62      0.60\n",
            "     Sandal       0.87      0.63      0.73\n",
            "      Shirt       0.46      0.38      0.41\n",
            "    Sneaker       0.73      0.87      0.79\n",
            "        Bag       0.93      0.81      0.87\n",
            " Ankle boot       0.79      0.90      0.84\n",
            "\n",
            "avg / total       0.74      0.74      0.74\n",
            "\n"
          ],
          "name": "stdout"
        },
        {
          "output_type": "display_data",
          "data": {
            "image/png": "[encoded data removed]",
            "text/plain": [
              "<Figure size 432x288 with 1 Axes>"
            ]
          },
          "metadata": {
            "tags": []
          }
        }
      ]
    }
  ]
}